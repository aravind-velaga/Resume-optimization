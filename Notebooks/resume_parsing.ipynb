{
 "cells": [
  {
   "cell_type": "code",
   "execution_count": 11,
   "id": "079a2d61",
   "metadata": {},
   "outputs": [],
   "source": [
    "import pandas as pd\n",
    "import re"
   ]
  },
  {
   "cell_type": "code",
   "execution_count": null,
   "id": "c6e5805d",
   "metadata": {},
   "outputs": [],
   "source": [
    "# Read and strip lines\n",
    "with open('../data/30k_resume_files.txt', 'r', encoding=\"Windows-1252\") as f:\n",
    "    lines = [line.strip() for line in f if line.strip()]"
   ]
  },
  {
   "cell_type": "code",
   "execution_count": 5,
   "id": "e2fe1761",
   "metadata": {},
   "outputs": [],
   "source": [
    "# Split each line on ':::' and keep only the last part (i.e., the actual resume content)\n",
    "parsed = [line.split(\":::\") for line in lines]"
   ]
  },
  {
   "cell_type": "code",
   "execution_count": 6,
   "id": "6e9e6025",
   "metadata": {},
   "outputs": [],
   "source": [
    "# Step 3: Store as a list of dicts (for future conversion to DataFrame if needed)\n",
    "resume_data = []\n",
    "for i, parts in enumerate(parsed):\n",
    "    if len(parts) == 3:\n",
    "        filepath, role_skill_text, resume_text = parts\n",
    "        resume_data.append({\n",
    "            \"resume_id\": i,\n",
    "            \"filepath\": filepath,\n",
    "            \"roles_skills\": role_skill_text,\n",
    "            \"resume_text\": resume_text\n",
    "        })"
   ]
  },
  {
   "cell_type": "code",
   "execution_count": 7,
   "id": "27427b50",
   "metadata": {},
   "outputs": [
    {
     "name": "stdout",
     "output_type": "stream",
     "text": [
      "\n",
      "Resume 1:\n",
      "========================================\n",
      "Roles/Skills: Database Administrator;Database Administrator;Database administration;Database;Ms sql server;Ms sql server 2005;Sql server;Sql server 2005;Sql server 2008;Sql server 2008 r2;Sql server 2012;Sql;Sql qu...\n",
      "Text Sample: Database Administrator <span class=\"hl\">Database</span> <span class=\"hl\">Administrator</span> Database Administrator - Family Private Care LLC Lawrenceville, GA A self-motivated Production SQL Server Database Administrator who possesses  strong analytical and problem solving skills. My experience in...\n",
      "\n",
      "Resume 2:\n",
      "========================================\n",
      "Roles/Skills: Database Administrator;SQL, Microsoft PowerPoint, Windows XP, Microsoft office, Assembly Language, Microsoft Windows 7, C, C#, Visual basic and java programming ,Microprocessors ,Hardware/Systems Desi...\n",
      "Text Sample: Database Administrator <span class=\"hl\">Database</span> <span class=\"hl\">Administrator</span> sql server database administrator Houston, TX DATABASE ADMINISTRATOR  Over five years of experience in database management systems administration, expert at developing and maintaining database, with strong ...\n",
      "\n",
      "Resume 3:\n",
      "========================================\n",
      "Roles/Skills: Oracle Database Administrator;Oracle Database Administrator;DATABASES;ORACLE (4 years);ORACLE 10G;SQL;LINUX;RMAN (4 years);DATAGUARD (3 years)...\n",
      "Text Sample: Oracle Database Administrator Oracle <span class=\"hl\">Database</span> <span class=\"hl\">Administrator</span> Oracle Database Administrator - Cognizant hyderabad Carrier Objective:  To Obtain a Oracle DBA Position in a progressive Company Where I Can Utilise and Enhance my Experience and Knowledge in ...\n",
      "\n",
      "Resume 4:\n",
      "========================================\n",
      "Roles/Skills: Amazon Redshift Administrator and ETL Developer, Business Intelligence;Database Administrator;Database Administrator;SQL management (5 years);PostgresSQL (7 years);Oracle (1 year);MySQL (4 years);micr...\n",
      "Text Sample: Amazon Redshift Administrator and ETL Developer, Business Intelligence Amazon Redshift <span class=\"hl\">Administrator</span> and ETL Developer, Business Intelligence ETL Developer and Database Administrator Plantation, FL To work as database administrator, implementing this role appropriately and ef...\n",
      "\n",
      "Resume 5:\n",
      "========================================\n",
      "Roles/Skills: Scrum Master;Oracle Database Administrator/ Scrum Master;Junior Oracle Database Administrator;Oracle;Sql;Linux;Sun;Ux;Rman;Hp-ux;Rdbms;Oem;Loader;Agile Scrum;Jira;Scrum Master;CSM;Scrum...\n",
      "Text Sample: Scrum Master Scrum Master Scrum Master Richmond, VA Work Experience Scrum Master Quest Technologies - Washington, DC October 2015 to April 2019 Responsibilities:  Organize and facilitate Scrum ceremonies and backlog refinement under minimal supervision  • Champion Agile software development best pra...\n"
     ]
    }
   ],
   "source": [
    "# Step 4: View sample\n",
    "for i in range(5):\n",
    "    print(f\"\\nResume {i+1}:\\n{'='*40}\")\n",
    "    print(f\"Roles/Skills: {resume_data[i]['roles_skills'][:200]}...\")\n",
    "    print(f\"Text Sample: {resume_data[i]['resume_text'][:300]}...\")"
   ]
  },
  {
   "cell_type": "code",
   "execution_count": null,
   "id": "44f4b9a3",
   "metadata": {},
   "outputs": [
    {
     "data": {
      "text/html": [
       "<div>\n",
       "<style scoped>\n",
       "    .dataframe tbody tr th:only-of-type {\n",
       "        vertical-align: middle;\n",
       "    }\n",
       "\n",
       "    .dataframe tbody tr th {\n",
       "        vertical-align: top;\n",
       "    }\n",
       "\n",
       "    .dataframe thead th {\n",
       "        text-align: right;\n",
       "    }\n",
       "</style>\n",
       "<table border=\"1\" class=\"dataframe\">\n",
       "  <thead>\n",
       "    <tr style=\"text-align: right;\">\n",
       "      <th></th>\n",
       "      <th>resume_id</th>\n",
       "      <th>filepath</th>\n",
       "      <th>roles_skills</th>\n",
       "      <th>resume_text</th>\n",
       "    </tr>\n",
       "  </thead>\n",
       "  <tbody>\n",
       "    <tr>\n",
       "      <th>0</th>\n",
       "      <td>0</td>\n",
       "      <td>C:\\Workspace\\java\\scrape_indeed\\dba_part_1\\1.h...</td>\n",
       "      <td>Database Administrator;Database Administrator;...</td>\n",
       "      <td>Database Administrator &lt;span class=\"hl\"&gt;Databa...</td>\n",
       "    </tr>\n",
       "    <tr>\n",
       "      <th>1</th>\n",
       "      <td>1</td>\n",
       "      <td>C:\\Workspace\\java\\scrape_indeed\\dba_part_1\\10....</td>\n",
       "      <td>Database Administrator;SQL, Microsoft PowerPoi...</td>\n",
       "      <td>Database Administrator &lt;span class=\"hl\"&gt;Databa...</td>\n",
       "    </tr>\n",
       "    <tr>\n",
       "      <th>2</th>\n",
       "      <td>2</td>\n",
       "      <td>C:\\Workspace\\java\\scrape_indeed\\dba_part_1\\100...</td>\n",
       "      <td>Oracle Database Administrator;Oracle Database ...</td>\n",
       "      <td>Oracle Database Administrator Oracle &lt;span cla...</td>\n",
       "    </tr>\n",
       "    <tr>\n",
       "      <th>3</th>\n",
       "      <td>3</td>\n",
       "      <td>C:\\Workspace\\java\\scrape_indeed\\dba_part_1\\100...</td>\n",
       "      <td>Amazon Redshift Administrator and ETL Develope...</td>\n",
       "      <td>Amazon Redshift Administrator and ETL Develope...</td>\n",
       "    </tr>\n",
       "    <tr>\n",
       "      <th>4</th>\n",
       "      <td>4</td>\n",
       "      <td>C:\\Workspace\\java\\scrape_indeed\\dba_part_1\\100...</td>\n",
       "      <td>Scrum Master;Oracle Database Administrator/ Sc...</td>\n",
       "      <td>Scrum Master Scrum Master Scrum Master Richmon...</td>\n",
       "    </tr>\n",
       "  </tbody>\n",
       "</table>\n",
       "</div>"
      ],
      "text/plain": [
       "   resume_id                                           filepath  \\\n",
       "0          0  C:\\Workspace\\java\\scrape_indeed\\dba_part_1\\1.h...   \n",
       "1          1  C:\\Workspace\\java\\scrape_indeed\\dba_part_1\\10....   \n",
       "2          2  C:\\Workspace\\java\\scrape_indeed\\dba_part_1\\100...   \n",
       "3          3  C:\\Workspace\\java\\scrape_indeed\\dba_part_1\\100...   \n",
       "4          4  C:\\Workspace\\java\\scrape_indeed\\dba_part_1\\100...   \n",
       "\n",
       "                                        roles_skills  \\\n",
       "0  Database Administrator;Database Administrator;...   \n",
       "1  Database Administrator;SQL, Microsoft PowerPoi...   \n",
       "2  Oracle Database Administrator;Oracle Database ...   \n",
       "3  Amazon Redshift Administrator and ETL Develope...   \n",
       "4  Scrum Master;Oracle Database Administrator/ Sc...   \n",
       "\n",
       "                                         resume_text  \n",
       "0  Database Administrator <span class=\"hl\">Databa...  \n",
       "1  Database Administrator <span class=\"hl\">Databa...  \n",
       "2  Oracle Database Administrator Oracle <span cla...  \n",
       "3  Amazon Redshift Administrator and ETL Develope...  \n",
       "4  Scrum Master Scrum Master Scrum Master Richmon...  "
      ]
     },
     "execution_count": 12,
     "metadata": {},
     "output_type": "execute_result"
    }
   ],
   "source": [
    "# Convert the dictionary to a dataframe\n",
    "df = pd.DataFrame(resume_data)\n",
    "df.head()"
   ]
  },
  {
   "cell_type": "code",
   "execution_count": null,
   "id": "dbea459e",
   "metadata": {},
   "outputs": [],
   "source": [
    "# Remove all HTML tags (anything in <...>)\n",
    "df['cleaned_text'] = df['resume_text'].apply(lambda x: re.sub(r'<[^>]+>', ' ', x))"
   ]
  }
 ],
 "metadata": {
  "kernelspec": {
   "display_name": ".venv",
   "language": "python",
   "name": "python3"
  },
  "language_info": {
   "codemirror_mode": {
    "name": "ipython",
    "version": 3
   },
   "file_extension": ".py",
   "mimetype": "text/x-python",
   "name": "python",
   "nbconvert_exporter": "python",
   "pygments_lexer": "ipython3",
   "version": "3.10.11"
  }
 },
 "nbformat": 4,
 "nbformat_minor": 5
}
