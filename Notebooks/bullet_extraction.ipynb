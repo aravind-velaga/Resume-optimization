{
 "cells": [
  {
   "cell_type": "code",
   "execution_count": 11,
   "id": "9022033f",
   "metadata": {},
   "outputs": [],
   "source": [
    "import re\n",
    "import pandas as pd\n",
    "import spacy"
   ]
  },
  {
   "cell_type": "code",
   "execution_count": 12,
   "id": "8cbb7997",
   "metadata": {},
   "outputs": [],
   "source": [
    "nlp = spacy.load(\"en_core_web_lg\")"
   ]
  },
  {
   "cell_type": "code",
   "execution_count": null,
   "id": "fdc7a0b8",
   "metadata": {},
   "outputs": [],
   "source": [
    "# Read and strip lines\n",
    "with open('../data/30k_resume_files.txt', 'r', encoding=\"Windows-1252\") as f:\n",
    "    lines = [line.strip() for line in f if line.strip()]"
   ]
  },
  {
   "cell_type": "code",
   "execution_count": 14,
   "id": "bd5ad872",
   "metadata": {},
   "outputs": [],
   "source": [
    "# Split each line on ':::' and keep only the last part (i.e., the actual resume content)\n",
    "parsed = [line.split(\":::\") for line in lines]"
   ]
  },
  {
   "cell_type": "code",
   "execution_count": 15,
   "id": "8ce2e902",
   "metadata": {},
   "outputs": [],
   "source": [
    "# Data Extraction from text document\n",
    "extracted = []\n",
    "for resume_id, line in enumerate(lines):\n",
    "    parts = line.split(\":::\")\n",
    "    if len(parts) < 3:\n",
    "        continue\n",
    "    section = parts[2]\n",
    "    # Split on both \"•\" and \"*\" markers\n",
    "    raw_segments = re.split(r\"[•\\*]\", section)\n",
    "    for seg in raw_segments[1:]:\n",
    "        bullet = seg.strip()\n",
    "        if bullet:\n",
    "            extracted.append({\n",
    "                \"resume_id\": resume_id,\n",
    "                \"raw_bullet\": bullet\n",
    "            })"
   ]
  },
  {
   "cell_type": "code",
   "execution_count": 16,
   "id": "073cb99c",
   "metadata": {},
   "outputs": [
    {
     "data": {
      "text/html": [
       "<div>\n",
       "<style scoped>\n",
       "    .dataframe tbody tr th:only-of-type {\n",
       "        vertical-align: middle;\n",
       "    }\n",
       "\n",
       "    .dataframe tbody tr th {\n",
       "        vertical-align: top;\n",
       "    }\n",
       "\n",
       "    .dataframe thead th {\n",
       "        text-align: right;\n",
       "    }\n",
       "</style>\n",
       "<table border=\"1\" class=\"dataframe\">\n",
       "  <thead>\n",
       "    <tr style=\"text-align: right;\">\n",
       "      <th></th>\n",
       "      <th>resume_id</th>\n",
       "      <th>raw_bullet</th>\n",
       "    </tr>\n",
       "  </thead>\n",
       "  <tbody>\n",
       "    <tr>\n",
       "      <th>0</th>\n",
       "      <td>0</td>\n",
       "      <td>Responsible for administering and maintaining ...</td>\n",
       "    </tr>\n",
       "    <tr>\n",
       "      <th>1</th>\n",
       "      <td>0</td>\n",
       "      <td>Analyzes the current database environment to d...</td>\n",
       "    </tr>\n",
       "    <tr>\n",
       "      <th>2</th>\n",
       "      <td>0</td>\n",
       "      <td>Monitors and troubleshoots production environm...</td>\n",
       "    </tr>\n",
       "    <tr>\n",
       "      <th>3</th>\n",
       "      <td>0</td>\n",
       "      <td>Creates and maintains documentation for DBA st...</td>\n",
       "    </tr>\n",
       "    <tr>\n",
       "      <th>4</th>\n",
       "      <td>0</td>\n",
       "      <td>Ensures that all code changes made in the prod...</td>\n",
       "    </tr>\n",
       "  </tbody>\n",
       "</table>\n",
       "</div>"
      ],
      "text/plain": [
       "   resume_id                                         raw_bullet\n",
       "0          0  Responsible for administering and maintaining ...\n",
       "1          0  Analyzes the current database environment to d...\n",
       "2          0  Monitors and troubleshoots production environm...\n",
       "3          0  Creates and maintains documentation for DBA st...\n",
       "4          0  Ensures that all code changes made in the prod..."
      ]
     },
     "execution_count": 16,
     "metadata": {},
     "output_type": "execute_result"
    }
   ],
   "source": [
    "df = pd.DataFrame(extracted)\n",
    "df.head()"
   ]
  },
  {
   "cell_type": "code",
   "execution_count": 17,
   "id": "ac623729",
   "metadata": {},
   "outputs": [
    {
     "data": {
      "text/html": [
       "<div>\n",
       "<style scoped>\n",
       "    .dataframe tbody tr th:only-of-type {\n",
       "        vertical-align: middle;\n",
       "    }\n",
       "\n",
       "    .dataframe tbody tr th {\n",
       "        vertical-align: top;\n",
       "    }\n",
       "\n",
       "    .dataframe thead th {\n",
       "        text-align: right;\n",
       "    }\n",
       "</style>\n",
       "<table border=\"1\" class=\"dataframe\">\n",
       "  <thead>\n",
       "    <tr style=\"text-align: right;\">\n",
       "      <th></th>\n",
       "      <th>resume_id</th>\n",
       "      <th>raw_bullet</th>\n",
       "    </tr>\n",
       "  </thead>\n",
       "  <tbody>\n",
       "    <tr>\n",
       "      <th>1027753</th>\n",
       "      <td>29782</td>\n",
       "      <td>Produce 24 pixel-perfect websites built from t...</td>\n",
       "    </tr>\n",
       "    <tr>\n",
       "      <th>1027754</th>\n",
       "      <td>29782</td>\n",
       "      <td>Design elegant UIs and develop 20+ websites fo...</td>\n",
       "    </tr>\n",
       "    <tr>\n",
       "      <th>1027755</th>\n",
       "      <td>29782</td>\n",
       "      <td>Design, develop, and maintain Joomla, WordPres...</td>\n",
       "    </tr>\n",
       "    <tr>\n",
       "      <th>1027756</th>\n",
       "      <td>29782</td>\n",
       "      <td>Utilize HTML5, CSS3, jQuery to develop UX Focu...</td>\n",
       "    </tr>\n",
       "    <tr>\n",
       "      <th>1027757</th>\n",
       "      <td>29782</td>\n",
       "      <td>Vet and scope budget compliant projects that e...</td>\n",
       "    </tr>\n",
       "  </tbody>\n",
       "</table>\n",
       "</div>"
      ],
      "text/plain": [
       "         resume_id                                         raw_bullet\n",
       "1027753      29782  Produce 24 pixel-perfect websites built from t...\n",
       "1027754      29782  Design elegant UIs and develop 20+ websites fo...\n",
       "1027755      29782  Design, develop, and maintain Joomla, WordPres...\n",
       "1027756      29782  Utilize HTML5, CSS3, jQuery to develop UX Focu...\n",
       "1027757      29782  Vet and scope budget compliant projects that e..."
      ]
     },
     "execution_count": 17,
     "metadata": {},
     "output_type": "execute_result"
    }
   ],
   "source": [
    "df.tail()"
   ]
  },
  {
   "cell_type": "code",
   "execution_count": 18,
   "id": "a053eb1a",
   "metadata": {},
   "outputs": [],
   "source": [
    "# Cleaning & normalization\n",
    "cleaned = []\n",
    "for item in extracted:\n",
    "    text = item[\"raw_bullet\"]\n",
    "    # a) remove HTML tags\n",
    "    text = re.sub(r\"<[^>]+>\", \"\", text)\n",
    "    # b) collapse whitespace\n",
    "    text = re.sub(r\"\\s+\", \" \", text).strip()\n",
    "    # c) spaCy processing\n",
    "    doc = nlp(text)\n",
    "    tokens = [tok.lemma_.lower() for tok in doc if not tok.is_stop and not tok.is_punct]\n",
    "    cleaned_text = \" \".join(tokens)\n",
    "    cleaned.append({\n",
    "        \"resume_id\": item[\"resume_id\"],\n",
    "        \"clean_bullet\": cleaned_text\n",
    "    })"
   ]
  },
  {
   "cell_type": "code",
   "execution_count": 20,
   "id": "9be9dcea",
   "metadata": {},
   "outputs": [
    {
     "data": {
      "text/html": [
       "<div>\n",
       "<style scoped>\n",
       "    .dataframe tbody tr th:only-of-type {\n",
       "        vertical-align: middle;\n",
       "    }\n",
       "\n",
       "    .dataframe tbody tr th {\n",
       "        vertical-align: top;\n",
       "    }\n",
       "\n",
       "    .dataframe thead th {\n",
       "        text-align: right;\n",
       "    }\n",
       "</style>\n",
       "<table border=\"1\" class=\"dataframe\">\n",
       "  <thead>\n",
       "    <tr style=\"text-align: right;\">\n",
       "      <th></th>\n",
       "      <th>resume_id</th>\n",
       "      <th>clean_bullet</th>\n",
       "    </tr>\n",
       "  </thead>\n",
       "  <tbody>\n",
       "    <tr>\n",
       "      <th>0</th>\n",
       "      <td>0</td>\n",
       "      <td>responsible administer maintain 150 database s...</td>\n",
       "    </tr>\n",
       "    <tr>\n",
       "      <th>1</th>\n",
       "      <td>0</td>\n",
       "      <td>analyze current database environment determine...</td>\n",
       "    </tr>\n",
       "    <tr>\n",
       "      <th>2</th>\n",
       "      <td>0</td>\n",
       "      <td>monitor troubleshoot production environment id...</td>\n",
       "    </tr>\n",
       "    <tr>\n",
       "      <th>3</th>\n",
       "      <td>0</td>\n",
       "      <td>create maintain documentation dba standard ope...</td>\n",
       "    </tr>\n",
       "    <tr>\n",
       "      <th>4</th>\n",
       "      <td>0</td>\n",
       "      <td>ensure code change production environment sox ...</td>\n",
       "    </tr>\n",
       "  </tbody>\n",
       "</table>\n",
       "</div>"
      ],
      "text/plain": [
       "   resume_id                                       clean_bullet\n",
       "0          0  responsible administer maintain 150 database s...\n",
       "1          0  analyze current database environment determine...\n",
       "2          0  monitor troubleshoot production environment id...\n",
       "3          0  create maintain documentation dba standard ope...\n",
       "4          0  ensure code change production environment sox ..."
      ]
     },
     "execution_count": 20,
     "metadata": {},
     "output_type": "execute_result"
    }
   ],
   "source": [
    "df_clean = pd.DataFrame(cleaned)\n",
    "df_clean.head()"
   ]
  },
  {
   "cell_type": "code",
   "execution_count": null,
   "id": "0b2e96bf",
   "metadata": {},
   "outputs": [
    {
     "data": {
      "text/html": [
       "<div>\n",
       "<style scoped>\n",
       "    .dataframe tbody tr th:only-of-type {\n",
       "        vertical-align: middle;\n",
       "    }\n",
       "\n",
       "    .dataframe tbody tr th {\n",
       "        vertical-align: top;\n",
       "    }\n",
       "\n",
       "    .dataframe thead th {\n",
       "        text-align: right;\n",
       "    }\n",
       "</style>\n",
       "<table border=\"1\" class=\"dataframe\">\n",
       "  <thead>\n",
       "    <tr style=\"text-align: right;\">\n",
       "      <th></th>\n",
       "      <th>resume_id</th>\n",
       "      <th>raw_bullet</th>\n",
       "      <th>clean_bullet</th>\n",
       "    </tr>\n",
       "  </thead>\n",
       "  <tbody>\n",
       "    <tr>\n",
       "      <th>0</th>\n",
       "      <td>0</td>\n",
       "      <td>Responsible for administering and maintaining ...</td>\n",
       "      <td>responsible administer maintain 150 database s...</td>\n",
       "    </tr>\n",
       "    <tr>\n",
       "      <th>1</th>\n",
       "      <td>0</td>\n",
       "      <td>Analyzes the current database environment to d...</td>\n",
       "      <td>analyze current database environment determine...</td>\n",
       "    </tr>\n",
       "    <tr>\n",
       "      <th>2</th>\n",
       "      <td>0</td>\n",
       "      <td>Monitors and troubleshoots production environm...</td>\n",
       "      <td>monitor troubleshoot production environment id...</td>\n",
       "    </tr>\n",
       "    <tr>\n",
       "      <th>3</th>\n",
       "      <td>0</td>\n",
       "      <td>Creates and maintains documentation for DBA st...</td>\n",
       "      <td>create maintain documentation dba standard ope...</td>\n",
       "    </tr>\n",
       "    <tr>\n",
       "      <th>4</th>\n",
       "      <td>0</td>\n",
       "      <td>Ensures that all code changes made in the prod...</td>\n",
       "      <td>ensure code change production environment sox ...</td>\n",
       "    </tr>\n",
       "  </tbody>\n",
       "</table>\n",
       "</div>"
      ],
      "text/plain": [
       "   resume_id                                         raw_bullet  \\\n",
       "0          0  Responsible for administering and maintaining ...   \n",
       "1          0  Analyzes the current database environment to d...   \n",
       "2          0  Monitors and troubleshoots production environm...   \n",
       "3          0  Creates and maintains documentation for DBA st...   \n",
       "4          0  Ensures that all code changes made in the prod...   \n",
       "\n",
       "                                        clean_bullet  \n",
       "0  responsible administer maintain 150 database s...  \n",
       "1  analyze current database environment determine...  \n",
       "2  monitor troubleshoot production environment id...  \n",
       "3  create maintain documentation dba standard ope...  \n",
       "4  ensure code change production environment sox ...  "
      ]
     },
     "execution_count": 22,
     "metadata": {},
     "output_type": "execute_result"
    }
   ],
   "source": [
    "df['clean_bullet'] = df_clean['clean_bullet']\n",
    "df.head()"
   ]
  },
  {
   "cell_type": "code",
   "execution_count": null,
   "id": "81fb4920",
   "metadata": {},
   "outputs": [],
   "source": [
    "# Save the cleaned DataFrame to a CSV file in data folder \n",
    "df.to_csv('../data/cleaned_bullets.csv', index=False)"
   ]
  }
 ],
 "metadata": {
  "kernelspec": {
   "display_name": ".venv",
   "language": "python",
   "name": "python3"
  },
  "language_info": {
   "codemirror_mode": {
    "name": "ipython",
    "version": 3
   },
   "file_extension": ".py",
   "mimetype": "text/x-python",
   "name": "python",
   "nbconvert_exporter": "python",
   "pygments_lexer": "ipython3",
   "version": "3.10.11"
  }
 },
 "nbformat": 4,
 "nbformat_minor": 5
}
